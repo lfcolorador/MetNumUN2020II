{
  "nbformat": 4,
  "nbformat_minor": 0,
  "metadata": {
    "colab": {
      "name": "BisectionConvergence.ipynb",
      "provenance": [],
      "collapsed_sections": []
    },
    "kernelspec": {
      "name": "python3",
      "display_name": "Python 3"
    }
  },
  "cells": [
    {
      "cell_type": "code",
      "metadata": {
        "id": "2TyCyWKZrFqE"
      },
      "source": [
        "import matplotlib.pyplot as plt\n",
        "import numpy as np"
      ],
      "execution_count": null,
      "outputs": []
    },
    {
      "cell_type": "code",
      "metadata": {
        "id": "YHJvkN4Anqac",
        "colab": {
          "base_uri": "https://localhost:8080/",
          "height": 312
        },
        "outputId": "c86166bd-4269-4040-c07a-283b225e8caa"
      },
      "source": [
        "def func(x): \n",
        "    return (x-1) * (x-2) * (x-3) * (x-4)\n",
        "\n",
        "\n",
        "x = np.linspace(0.0,5.0,500)\n",
        "fig, ax = plt.subplots()\n",
        "ax.plot(x,func(x))\n",
        "ax.axhline(y=0, color='k')\n",
        "ax.axvline(x=0, color='k')\n",
        "ax.grid(True, which='both')\n",
        "plt.title('f(x)=(x-1) *(x-2) *(x-3)* (x-4)')\n",
        "plt.xlabel('x')\n",
        "plt.ylabel('f(x)')\n"
      ],
      "execution_count": null,
      "outputs": [
        {
          "output_type": "execute_result",
          "data": {
            "text/plain": [
              "Text(0, 0.5, 'f(x)')"
            ]
          },
          "metadata": {
            "tags": []
          },
          "execution_count": 8
        },
        {
          "output_type": "display_data",
          "data": {
            "image/png": "[encoded data removed]",
            "text/plain": [
              "<Figure size 432x288 with 1 Axes>"
            ]
          },
          "metadata": {
            "tags": [],
            "needs_background": "light"
          }
        }
      ]
    },
    {
      "cell_type": "code",
      "metadata": {
        "id": "6Vd93Vz1psE3",
        "colab": {
          "base_uri": "https://localhost:8080/",
          "height": 295
        },
        "outputId": "d3c7d232-cec4-4046-a2cf-2f87e967f640"
      },
      "source": [
        "width = height = 80\n",
        "xi=0.0\n",
        "xf=5.0\n",
        "eps = 1e-3\n",
        "mxiter = 1e4\n",
        "\n",
        "pixels = np.full((width,height,3),0)\n",
        "# roots\n",
        "r1 = 1\n",
        "r2 = 2\n",
        "r3 = 3\n",
        "r4 = 4\n",
        "   \n",
        "multcol = 5\n",
        "\n",
        "for i in range(height):\n",
        "\n",
        "  a = float(xi + (i * (xf-xi) /height))\n",
        "  \n",
        "  for j in range(width):\n",
        "    b = float(xi + (j* (xf-xi)/ width))\n",
        "\n",
        "    c=a\n",
        "    iter = 0\n",
        "    \n",
        "    while ((b-a) >= eps and (func(a) * func(b) <= 0)): \n",
        "\n",
        "      # Check if a is root \n",
        "      if (func(a) == 0.0): \n",
        "        c=a\n",
        "        break\n",
        "\n",
        "      # Check if b is root \n",
        "      if (func(b) == 0.0): \n",
        "        c=b\n",
        "        break\n",
        "\n",
        "      # Find middle point \n",
        "      c = (a+b)/2\n",
        "\n",
        "      # Decide the side to repeat the steps \n",
        "      if (func(c)*func(a) < 0): \n",
        "          b = c \n",
        "      else: \n",
        "          a = c \n",
        "      \n",
        "      iter = iter + 1\n",
        "      \n",
        "      if (iter > mxiter):\n",
        "        break\n",
        "\n",
        "    # Pixels colored using the roots\n",
        "    if abs(c-r1)<eps:\n",
        "        # color red\n",
        "        pixels[height-j-1,i] = (255 - iter*multcol, 0, 0)\n",
        "    elif abs(c-r2)<=eps:\n",
        "        # color green\n",
        "        pixels[height-j-1,i] = (0, 255 - iter*multcol, 0)\n",
        "    elif abs(c-r3)<=eps:\n",
        "        # color blue\n",
        "        pixels[height-j-1,i] = (0, 0, 255 - iter*multcol)\n",
        "    elif abs(c-r4)<=eps:\n",
        "        # color cyan\n",
        "        pixels[height-j-1,i] = (0, 255 - iter*multcol, 255 - iter*multcol)\n",
        "    elif (b < a):\n",
        "        pixels[height-j-1,i] = (255, 255, 0)\n",
        "    elif (func(a) * func(b) >= 0):\n",
        "        pixels[height-j-1,i] = (255, 255, 255)\n",
        "    else:   \n",
        "        pixels[height-j-1,i] = (0, 0, 0)\n",
        "\n",
        "                \n",
        "     \n",
        "plt.title('bisection_convergence')\n",
        "plt.xlabel(\"a in (\"+str(xi)+\",\"+str(xf)+\")\")\n",
        "plt.ylabel(\"b in (\"+str(xi)+\",\"+str(xf)+\")\")\n",
        "extent = xi, xf, xi, xf\n",
        "plt.imshow(pixels,extent =extent)\n",
        "plt.show()"
      ],
      "execution_count": null,
      "outputs": [
        {
          "output_type": "display_data",
          "data": {
            "image/png": "[encoded data removed]",
            "text/plain": [
              "<Figure size 432x288 with 1 Axes>"
            ]
          },
          "metadata": {
            "tags": [],
            "needs_background": "light"
          }
        }
      ]
    },
    {
      "cell_type": "code",
      "metadata": {
        "id": "5qhnq7IkGGCg",
        "colab": {
          "base_uri": "https://localhost:8080/",
          "height": 295
        },
        "outputId": "4fadf13e-b731-4ee8-d0f3-5d334981f334"
      },
      "source": [
        "width = height = 320\n",
        "xi=-8.0\n",
        "xf=8.0\n",
        "eps = 1e-3\n",
        "mxiter = 1e4\n",
        "\n",
        "pixels = np.full((width,height,3),0)\n",
        "# roots\n",
        "r1 = 1\n",
        "r2 = 2\n",
        "r3 = 3\n",
        "r4 = 4\n",
        "   \n",
        "multcol = 5\n",
        "\n",
        "for i in range(height):\n",
        "  \n",
        "  a =   float(xi + (i * (xf-xi) /height))\n",
        "  \n",
        "  for j in range(width):\n",
        "    b = float(xi + (j* (xf-xi)/ width))\n",
        "\n",
        "    c=a\n",
        "    iter = 0\n",
        "    \n",
        "    while ((b-a) >= eps and (func(a) * func(b) <= 0)): \n",
        "        \n",
        "        # Check if a is root \n",
        "        if (func(a) == 0.0): \n",
        "          c=a\n",
        "          break\n",
        "\n",
        "        # Check if b is root \n",
        "        if (func(b) == 0.0): \n",
        "          c=b\n",
        "          break\n",
        "\n",
        "        # Find middle point \n",
        "        c = (a+b)/2\n",
        "\n",
        "        # Decide the side to repeat the steps \n",
        "        if (func(c)*func(a) < 0): \n",
        "            b = c \n",
        "        else: \n",
        "            a = c \n",
        "        \n",
        "        iter = iter + 1\n",
        "        \n",
        "        if (iter > mxiter):\n",
        "          break\n",
        "\n",
        "    # Pixels colored using the roots\n",
        "    if abs(c-r1)<eps:\n",
        "        # color red\n",
        "        pixels[height-j-1,i] = (255 - iter*multcol, 0, 0)\n",
        "    elif abs(c-r2)<=eps:\n",
        "        # color green\n",
        "        pixels[height-j-1,i] = (0, 255 - iter*multcol, 0)\n",
        "    elif abs(c-r3)<=eps:\n",
        "        # color blue\n",
        "        pixels[height-j-1,i] = (0, 0, 255 - iter*multcol)\n",
        "    elif abs(c-r4)<=eps:\n",
        "        # color cyan\n",
        "        pixels[height-j-1,i] = (0, 255 - iter*multcol, 255 - iter*multcol)\n",
        "    elif (b < a):\n",
        "        pixels[height-j-1,i] = (255, 255, 0)\n",
        "    elif (func(a) * func(b) >= 0):\n",
        "        pixels[height-j-1,i] = (255, 255, 255)\n",
        "    else:   \n",
        "        pixels[height-j-1,i] = (0, 0, 0)\n",
        "\n",
        "                \n",
        "     \n",
        "plt.title('bisection_convergence')\n",
        "plt.xlabel(\"a in (\"+str(xi)+\",\"+str(xf)+\")\")\n",
        "plt.ylabel(\"b in (\"+str(xi)+\",\"+str(xf)+\")\")\n",
        "extent = xi, xf, xi, xf\n",
        "plt.imshow(pixels,extent =extent)\n",
        "plt.show()"
      ],
      "execution_count": null,
      "outputs": [
        {
          "output_type": "display_data",
          "data": {
            "image/png": "[encoded data removed]",
            "text/plain": [
              "<Figure size 432x288 with 1 Axes>"
            ]
          },
          "metadata": {
            "tags": [],
            "needs_background": "light"
          }
        }
      ]
    },
    {
      "cell_type": "markdown",
      "metadata": {
        "id": "1rgm1yDJHLpw"
      },
      "source": [
        "# Converge\n",
        "### Azúl, Rojo, Verde y Cyan : \n",
        "Porque a < b y hay cambio de signo entre f(a) y f(b)\n",
        "# No converge\n",
        "### Blanco :\n",
        "No hay un cambio de signo entre f(a) y f(b), entonces no hay raíz que encontrar entre a y b.\n",
        "### Amarillo :\n",
        "b < a, por lo que el intervalo es vacío."
      ]
    }
  ]
}