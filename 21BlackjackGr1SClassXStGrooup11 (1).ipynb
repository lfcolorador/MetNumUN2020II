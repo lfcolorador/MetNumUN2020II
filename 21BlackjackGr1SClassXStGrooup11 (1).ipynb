{
  "nbformat": 4,
  "nbformat_minor": 0,
  "metadata": {
    "colab": {
      "name": "21BlackjackGr1SClassXStGrooup11",
      "provenance": [],
      "collapsed_sections": []
    },
    "kernelspec": {
      "name": "python3",
      "display_name": "Python 3"
    }
  },
  "cells": [
    {
      "cell_type": "code",
      "metadata": {
        "id": "JaOVPCxL4Wa_"
      },
      "source": [
        "import random as r\n",
        "import matplotlib.pyplot as plt\n",
        " \n",
        "def add21(deck, countDeck, add):\n",
        "  my_deck = deck[:]\n",
        "  x = 0\n",
        "  count = 0\n",
        "  while (add<21):\n",
        "    x = r.choice(my_deck)\n",
        "    add += x\n",
        "    my_deck.remove(x)\n",
        "    count += 1\n",
        "  if (add==21):\n",
        "    countDeck[count] += 1\n",
        "    return 1\n",
        "  else:\n",
        "    return 0"
      ],
      "execution_count": null,
      "outputs": []
    },
    {
      "cell_type": "code",
      "metadata": {
        "id": "eATa-jhT665B",
        "outputId": "ee67a429-502e-4876-eabc-e9f0163f3f2f",
        "colab": {
          "base_uri": "https://localhost:8080/",
          "height": 1000
        }
      },
      "source": [
        "#Punto 1\n",
        "\n",
        "n = 10000000\n",
        "countSpDeck = 0\n",
        "countPkDeck = 0\n",
        "arrayCountSp = [0,0,0,0,0,0,0,0,0,0,0,0]\n",
        "arrayCountPk = [0,0,0,0,0,0,0,0,0,0,0,0]\n",
        "spanishDeck = [1,2,3,4,5,6,7,8,9,10,11,12,1,2,3,4,5,6,7,8,9,10,11,12,1,2,3,4,5,6,7,8,9,10,11,12,1,2,3,4,5,6,7,8,9,10,11,12]\n",
        "pokerDeck = [1,2,3,4,5,6,7,8,9,10,11,12,13,1,2,3,4,5,6,7,8,9,10,11,12,13,1,2,3,4,5,6,7,8,9,10,11,12,13,1,2,3,4,5,6,7,8,9,10,11,12,13]\n",
        "\n",
        "for i in range(1, n+1):\n",
        "  countSpDeck += add21(spanishDeck,arrayCountSp,0)\n",
        "  countPkDeck += add21(pokerDeck, arrayCountPk,0)\n",
        "probSpanish = countSpDeck / n\n",
        "probPoker = countPkDeck / n\n",
        "\n",
        "print(\"The probability for obtain a 21 (Spanish) \"+ str(round(probSpanish,4)*100) + \"%\")\n",
        "plot1 = plt.figure()\n",
        "axisPlot1 = plot1.add_axes([0,0,1,1])\n",
        "axisPlot1.bar(range(0,12),arrayCountSp)\n",
        "plt.show()\n",
        "print(\"The probability for obtain a 21 (Poker) \"+ str(round(probPoker,4)*100)+\"%\")\n",
        "plot2 = plt.figure()\n",
        "axisPlot2 = plot2.add_axes([0,0,1,1])\n",
        "axisPlot2.bar(range(0,12),arrayCountPk)\n",
        "plt.show()\n",
        "\n",
        "# Punto 2 \n",
        "\n",
        "n = 10000000 #10M\n",
        "countSpDeck = 0\n",
        "countPkDeck = 0\n",
        "arrayCountSp = [0,0,0,0,0,0,0,0,0,0,0,0]\n",
        "arrayCountPk = [0,0,0,0,0,0,0,0,0,0,0,0]\n",
        "spanishDeck = [1,2,3,4,5,6,7,8,9,10,10,10,1,2,3,4,5,6,7,8,9,10,10,10,1,2,3,4,5,6,7,8,9,10,11,12,1,2,3,4,5,6,7,8,9,10,10,10]\n",
        "pokerDeck = [1,2,3,4,5,6,7,8,9,10,10,10,10,1,2,3,4,5,6,7,8,9,10,10,10,10,1,2,3,4,5,6,7,8,9,10,11,12,13,1,2,3,4,5,6,7,8,9,10,10,10,10]\n",
        "\n",
        "for i in range(1, n+1):\n",
        "  countSpDeck += add21(spanishDeck,arrayCountSp,0)\n",
        "  countPkDeck += add21(pokerDeck, arrayCountPk,0)\n",
        "probSpanish = countSpDeck / n\n",
        "probPoker = countPkDeck / n\n",
        "\n",
        "print(\"The probability for obtain a 21 (Spanish) \"+ str(round(probSpanish,4)*100) + \"%\")\n",
        "plot3 = plt.figure()\n",
        "axisPlot3 = plot3.add_axes([0,0,1,1])\n",
        "axisPlot3.bar(range(0,12),arrayCountSp)\n",
        "plt.show()\n",
        "print(\"The probability for obtain a 21 (Poker) \"+ str(round(probPoker,4)*100) +\"%\")\n",
        "plot4 = plt.figure()\n",
        "axisPlot4 = plot4.add_axes([0,0,1,1])\n",
        "axisPlot4.bar(range(0,12),arrayCountPk)\n",
        "plt.show()\n",
        "\n",
        "#Punto3\n",
        "\n",
        "def halfDeck(deck):\n",
        "  aux_array=deck[:]\n",
        "  for i in range(1,int((len(deck)-1)/2)):\n",
        "    aux_array.remove(r.choice(aux_array))\n",
        "  return aux_array\n",
        "\n",
        "n = 100000\n",
        "countSpDeck = 0\n",
        "countPkDeck = 0\n",
        "arrayCountSp = [0,0,0,0,0,0,0,0,0,0,0,0]\n",
        "arrayCountPk = [0,0,0,0,0,0,0,0,0,0,0,0]\n",
        "spanishDeckWithout1x5_2x7 = [1,2,3,4,5,6,7,8,9,10,10,10,1,2,3,4,5,6,7,8,9,10,10,10,1,2,3,4,5,6,8,9,10,11,12,1,2,3,4,6,8,9,10,10,10]\n",
        "pokerDeckWithout1x5_2x7 = [1,2,3,4,5,6,7,8,9,10,10,10,10,1,2,3,4,5,6,7,8,9,10,10,10,10,1,2,3,4,5,6,8,9,10,11,12,13,1,2,3,4,6,8,9,10,10,10,10]\n",
        "\n",
        "for i in range(1, n+1):\n",
        "\n",
        "  aux = halfDeck(spanishDeckWithout1x5_2x7);\n",
        "  countSpDeck += add21(aux,arrayCountSp,19)\n",
        "  aux = halfDeck(pokerDeckWithout1x5_2x7);\n",
        "  countPkDeck += add21(aux, arrayCountPk,19)\n",
        "probSpanish = countSpDeck / n\n",
        "probPoker = countPkDeck / n\n",
        "\n",
        "print(\"The probability for obtain a 21 (Spanish) \"+ str(round(probSpanish,4)*100) + \"%\")\n",
        "plot5 = plt.figure()\n",
        "axisPlot5 = plot5.add_axes([0,0,1,1])\n",
        "axisPlot5.bar(range(0,12),arrayCountSp)\n",
        "plt.show()\n",
        "print(\"The probability for obtain a 21 (Poker) \"+ str(round(probPoker,4)*100) +\"%\")\n",
        "plot6 = plt.figure()\n",
        "axisPlot6 = plot6.add_axes([0,0,1,1])\n",
        "axisPlot6.bar(range(0,12),arrayCountPk)\n",
        "plt.show()\n",
        "\n",
        "\n",
        "\n"
      ],
      "execution_count": null,
      "outputs": [
        {
          "output_type": "stream",
          "text": [
            "The probability for obtain a 21 (Spanish) 15.770000000000001%\n"
          ],
          "name": "stdout"
        },
        {
          "output_type": "display_data",
          "data": {
            "image/png": "[encoded data removed]",
            "text/plain": [
              "<Figure size 432x288 with 1 Axes>"
            ]
          },
          "metadata": {
            "tags": [],
            "needs_background": "light"
          }
        },
        {
          "output_type": "stream",
          "text": [
            "The probability for obtain a 21 (Poker) 14.46%\n"
          ],
          "name": "stdout"
        },
        {
          "output_type": "display_data",
          "data": {
            "image/png": "[encoded data removed]",
            "text/plain": [
              "<Figure size 432x288 with 1 Axes>"
            ]
          },
          "metadata": {
            "tags": [],
            "needs_background": "light"
          }
        },
        {
          "output_type": "stream",
          "text": [
            "The probability for obtain a 21 (Spanish) 15.57%\n"
          ],
          "name": "stdout"
        },
        {
          "output_type": "display_data",
          "data": {
            "image/png": "[encoded data removed]",
            "text/plain": [
              "<Figure size 432x288 with 1 Axes>"
            ]
          },
          "metadata": {
            "tags": [],
            "needs_background": "light"
          }
        },
        {
          "output_type": "stream",
          "text": [
            "The probability for obtain a 21 (Poker) 14.580000000000002%\n"
          ],
          "name": "stdout"
        },
        {
          "output_type": "display_data",
          "data": {
            "image/png": "[encoded data removed]",
            "text/plain": [
              "<Figure size 432x288 with 1 Axes>"
            ]
          },
          "metadata": {
            "tags": [],
            "needs_background": "light"
          }
        },
        {
          "output_type": "stream",
          "text": [
            "The probability for obtain a 21 (Spanish) 9.83%\n"
          ],
          "name": "stdout"
        },
        {
          "output_type": "display_data",
          "data": {
            "image/png": "[encoded data removed]",
            "text/plain": [
              "<Figure size 432x288 with 1 Axes>"
            ]
          },
          "metadata": {
            "tags": [],
            "needs_background": "light"
          }
        },
        {
          "output_type": "stream",
          "text": [
            "The probability for obtain a 21 (Poker) 8.55%\n"
          ],
          "name": "stdout"
        },
        {
          "output_type": "display_data",
          "data": {
            "image/png": "[encoded data removed]",
            "text/plain": [
              "<Figure size 432x288 with 1 Axes>"
            ]
          },
          "metadata": {
            "tags": [],
            "needs_background": "light"
          }
        }
      ]
    },
    {
      "cell_type": "code",
      "metadata": {
        "id": "mZUCUKwwjYcB",
        "outputId": "57c88bbf-4027-4169-bcf5-de1140193463",
        "colab": {
          "base_uri": "https://localhost:8080/",
          "height": 808
        }
      },
      "source": [
        "#Punto4\n",
        "\n",
        "def deck_8(deck):\n",
        "  aux_array=deck[:]\n",
        "  aux_array_8=[]\n",
        "  for i in range(1,9):\n",
        "    aux_array_8.append(r.choice(aux_array))\n",
        "  return aux_array_8\n",
        "\n",
        "def deck_10(deck):\n",
        "  aux_array_a=deck[:]\n",
        "  aux_array_10=[]\n",
        "  for i in range(1,11):\n",
        "    aux_array_10.append(r.choice(aux_array_a))\n",
        "\n",
        "def deck_12(deck):\n",
        "  aux_array_b=deck[:]\n",
        "  aux_array_12=[]\n",
        "  for i in range(1,13):\n",
        "    aux_array_12.append(r.choice(aux_array_b))\n",
        "\n",
        "def hotDeck(deck):\n",
        "  count = 0\n",
        "  for i in range(len(deck)):\n",
        "    if deck[i] <= 2:      \n",
        "      count +=1\n",
        "  if count >=1:\n",
        "    return 1\n",
        "  else:\n",
        "    return 0\n",
        "  \n",
        "\n",
        "n = 10000\n",
        "countSpDeck = 0\n",
        "countPkDeck = 0\n",
        "countHotSpDeck = 0\n",
        "countHotPkDeck = 0\n",
        "arrayCountSp = [0,0,0,0,0,0,0,0,0,0,0,0]\n",
        "arrayCountPk = [0,0,0,0,0,0,0,0,0,0,0,0]\n",
        "spanishDeckWithout_P4 = [1,2,3,4,6,8,9,10,11,12,1,2,3,4,5,6,8,9,10,11,12,1,2,3,4,5,6,7,8,9,10,11,12,1,2,3,4,5,6,7,8,9,10,11,12]\n",
        "spanish10 = [1,2,3,4,6,8,9,10,11,12,1,2,3,4,5,6,8,9,10,11,12,1,2,3,4,5,6,7,8,9,10,11,12,1,2,3,4,5,6,7,8,9,10,11,12]\n",
        "pokerDeckWithout_P4 = [1,2,3,4,6,8,9,10,11,12,13,1,2,3,4,5,6,8,9,10,11,12,13,1,2,3,4,5,6,7,8,9,10,11,12,13,1,2,3,4,5,6,7,8,9,10,11,12,13]\n",
        "\n",
        "for i in range(1, n+1):\n",
        "  aux = deck_8(spanishDeckWithout_P4)\n",
        "  #aux = deck_10(spanishDeckWithout_P4)\n",
        "  countSpDeck += add21(aux,arrayCountSp,19)\n",
        "  countHotSpDeck += hotDeck(aux)\n",
        "\n",
        "  aux = deck_8(pokerDeckWithout_P4)\n",
        "  #aux = deck_8(pokerDeckWithout_P4)\n",
        "  countPkDeck += add21(aux, arrayCountPk,19)  \n",
        "  countHotPkDeck += hotDeck(aux)\n",
        "  \n",
        "print(\"Hot Decks Spanish: \", countHotSpDeck/n*100,\" %\")\n",
        "print(\"Cold Deck Spanish: \", (1-countHotSpDeck/n)*100,\" %\\n\")\n",
        "\n",
        "print(\"Hot Decks Poker: \", countHotPkDeck/n*100,\" %\")\n",
        "print(\"Cold Deck Poker: \", (1-countHotPkDeck/n)*100,\" %\\n\\n\")\n",
        "\n",
        "probSpanish = countSpDeck / n\n",
        "probPoker = countPkDeck / n\n",
        "\n",
        "print(\"The probability for obtain a 21 (Spanish) \"+ str(round(probSpanish,4)*100) + \"%\")\n",
        "plot7 = plt.figure()\n",
        "axisPlot7 = plot7.add_axes([0,0,1,1])\n",
        "axisPlot7.bar(range(0,12),arrayCountSp)\n",
        "plt.show()\n",
        "print(\"The probability for obtain a 21 (Poker) \"+ str(round(probPoker,4)*100) +\"%\")\n",
        "plot8 = plt.figure()\n",
        "axisPlot8 = plot8.add_axes([0,0,1,1])\n",
        "axisPlot8.bar(range(0,12),arrayCountPk)\n",
        "plt.show()"
      ],
      "execution_count": null,
      "outputs": [
        {
          "output_type": "stream",
          "text": [
            "Hot Decks Spanish:  79.54  %\n",
            "Cold Deck Spanish:  20.46  %\n",
            "\n",
            "Hot Decks Poker:  75.91  %\n",
            "Cold Deck Poker:  24.09  %\n",
            "\n",
            "\n",
            "The probability for obtain a 21 (Spanish) 9.68%\n"
          ],
          "name": "stdout"
        },
        {
          "output_type": "display_data",
          "data": {
            "image/png": "[encoded data removed]",
            "text/plain": [
              "<Figure size 432x288 with 1 Axes>"
            ]
          },
          "metadata": {
            "tags": [],
            "needs_background": "light"
          }
        },
        {
          "output_type": "stream",
          "text": [
            "The probability for obtain a 21 (Poker) 9.6%\n"
          ],
          "name": "stdout"
        },
        {
          "output_type": "display_data",
          "data": {
            "image/png": "[encoded data removed]",
            "text/plain": [
              "<Figure size 432x288 with 1 Axes>"
            ]
          },
          "metadata": {
            "tags": [],
            "needs_background": "light"
          }
        }
      ]
    },
    {
      "cell_type": "code",
      "metadata": {
        "id": "kV1PZIqkDiuq",
        "outputId": "b0addcab-14a9-46ba-913c-10df4be1a684",
        "colab": {
          "base_uri": "https://localhost:8080/",
          "height": 723
        }
      },
      "source": [
        "#Punto5\n",
        " \n",
        "n = 10000\n",
        "countSpDeck = 0\n",
        "countPkDeck = 0\n",
        "countHotSpDeck = 0\n",
        "arrayCountSp = [0,0,0,0,0,0,0,0,0,0,0,0]\n",
        "arrayCountPk = [0,0,0,0,0,0,0,0,0,0,0,0]\n",
        "spanishDeckWithout_P4 = [1,2,3,4,5,6,7,8,9,10,11,12,1,2,3,4,5,6,7,8,9,10,11,12,1,2,3,4,5,6,7,8,9,10,11,12,1,2,3,4,5,6,7,8,9,10,11,12]\n",
        "pokerDeckWithout_P4 = [1,2,3,4,5,6,7,8,9,10,11,12,13,1,2,3,4,5,6,7,8,9,10,11,12,13,1,2,3,4,5,6,7,8,9,10,11,12,13,1,2,3,4,5,6,7,8,9,10,11,12,13]\n",
        "\n",
        "for i in range(1, 200):\n",
        "  aux = deck_8(spanishDeckWithout_P4)\n",
        "  countSpDeck += add21(aux,arrayCountSp,19)\n",
        "  \n",
        "  aux = deck_8(pokerDeckWithout_P4);\n",
        "  countPkDeck += add21(aux, arrayCountPk,19)  \n",
        "  \n",
        "print(\"Hot Decks: \", countHotSpDeck/n*100,\" %\")\n",
        "print(\"Cold Decks: \", (1-countHotSpDeck/n)*100,\" %\")\n",
        "\n",
        "probSpanish = countSpDeck / n\n",
        "probPoker = countPkDeck / n\n",
        "\n",
        "print(\"The probability for obtain a 21 (Spanish) \"+ str(round(probSpanish,4)*100) + \"%\")\n",
        "plot7 = plt.figure()\n",
        "axisPlot7 = plot7.add_axes([0,0,1,1])\n",
        "axisPlot7.bar(range(0,12),arrayCountSp)\n",
        "plt.show()\n",
        "print(\"The probability for obtain a 21 (Poker) \"+ str(round(probPoker,4)*100) +\"%\")\n",
        "plot8 = plt.figure()\n",
        "axisPlot8 = plot8.add_axes([0,0,1,1])\n",
        "axisPlot8.bar(range(0,12),arrayCountPk)\n",
        "plt.show()"
      ],
      "execution_count": null,
      "outputs": [
        {
          "output_type": "stream",
          "text": [
            "Hot Decks:  0.0  %\n",
            "Cold Decks:  100.0  %\n",
            "The probability for obtain a 21 (Spanish) 0.16%\n"
          ],
          "name": "stdout"
        },
        {
          "output_type": "display_data",
          "data": {
            "image/png": "[encoded data removed]",
            "text/plain": [
              "<Figure size 432x288 with 1 Axes>"
            ]
          },
          "metadata": {
            "tags": [],
            "needs_background": "light"
          }
        },
        {
          "output_type": "stream",
          "text": [
            "The probability for obtain a 21 (Poker) 0.11%\n"
          ],
          "name": "stdout"
        },
        {
          "output_type": "display_data",
          "data": {
            "image/png": "[encoded data removed]",
            "text/plain": [
              "<Figure size 432x288 with 1 Axes>"
            ]
          },
          "metadata": {
            "tags": [],
            "needs_background": "light"
          }
        }
      ]
    },
    {
      "cell_type": "code",
      "metadata": {
        "id": "sY0v1m_wkC6u"
      },
      "source": [
        "#Punto 5 trying"
      ],
      "execution_count": null,
      "outputs": []
    },
    {
      "cell_type": "code",
      "metadata": {
        "id": "X7GGslmZtl-0",
        "outputId": "219e505a-ef09-4163-b52f-7f4d67a48399",
        "colab": {
          "base_uri": "https://localhost:8080/",
          "height": 1000
        }
      },
      "source": [
        "def deck_8(deck):\n",
        "  aux_array=deck[:]\n",
        "  aux_array_8=[]\n",
        "  for i in range(1,9):\n",
        "    aux_array_8.append(r.choice(aux_array))\n",
        "  return aux_array_8\n",
        "\n",
        "def hotDeck(deck):\n",
        "  count = 0\n",
        "  for i in range(len(deck)):\n",
        "    if deck[i] <= 2:      \n",
        "      count +=1\n",
        "  if count >=1:\n",
        "    return 1\n",
        "  else:\n",
        "    return 0\n",
        "  \n",
        "\n",
        "n = 10000\n",
        "countSpDeck = 0\n",
        "countPkDeck = 0\n",
        "countHotSpDeck = 0\n",
        "countHotPkDeck = 0\n",
        "arrayCountSp = [0,0,0,0,0,0,0,0,0,0,0,0]\n",
        "arrayCountPk = [0,0,0,0,0,0,0,0,0,0,0,0]\n",
        "spanishDeckWithout_P4 = [1,2,3,4,6,8,9,10,11,12,1,2,3,4,5,6,8,9,10,11,12,1,2,3,4,5,6,7,8,9,10,11,12,1,2,3,4,5,6,7,8,9,10,11,12]\n",
        "pokerDeckWithout_P4 = [1,2,3,4,6,8,9,10,11,12,13,1,2,3,4,5,6,8,9,10,11,12,13,1,2,3,4,5,6,7,8,9,10,11,12,13,1,2,3,4,5,6,7,8,9,10,11,12,13]\n",
        "\n",
        "for i in range(1, n+1):\n",
        "  aux = deck_8(spanishDeckWithout_P4)\n",
        "  countSpDeck += add21(aux,arrayCountSp,19)\n",
        "  countHotSpDeck += hotDeck(aux)\n",
        "\n",
        "  aux = deck_8(pokerDeckWithout_P4)\n",
        "  countPkDeck += add21(aux, arrayCountPk,19)  \n",
        "  countHotPkDeck += hotDeck(aux)\n",
        "\n",
        "print(\"Hot Decks Spanish: \", countHotSpDeck/n*100,\" %\")\n",
        "print(\"Cold Deck Spanish: \", (1-countHotSpDeck/n)*100,\" %\\n\")\n",
        "\n",
        "print(\"Hot Decks Poker: \", countHotPkDeck/n*100,\" %\")\n",
        "print(\"Cold Deck Poker: \", (1-countHotPkDeck/n)*100,\" %\\n\\n\")\n",
        "\n",
        "#Calc Nº games : 3 days, 10 hours, 60 min each one, 3 min per game\n",
        "totalGames = int(3 * (10 * 60) / 3)\n",
        "print(\"\\nTotal Games played by Ben: \" + str(totalGames))\n",
        "\n",
        "#Quantity of games with HotDeck Spanish:\n",
        "qHotDeckSpGames = totalGames * (countHotSpDeck/n*100) / 100\n",
        "qColdDeckSpGames = totalGames - qHotDeckSpGames\n",
        "priceHotDeckSp = qHotDeckSpGames * 1000\n",
        "priceColdDeckSp = qColdDeckSpGames * 10\n",
        "\n",
        "#Quantity of games with HotDeck Poker:\n",
        "qHotDeckPkGames = totalGames * (countHotPkDeck/n*100) / 100\n",
        "qColdDeckPkGames = totalGames - qHotDeckPkGames;\n",
        "priceHotDeckPk = qHotDeckPkGames * 1000\n",
        "priceColdDeckPk = qColdDeckPkGames * 10\n",
        "\n",
        "print(\"\\nSPANISH DECK:\\nThe quantity of money spend by Ben is:\\nHot Deck: \"+ str(round(priceHotDeckSp,4))+\"\\nCold Deck: \"+str(round(priceColdDeckSp,4))+\"\\n\")\n",
        "print(\"POKER DECK:\\nThe quantity of money spend by Ben is:\\nHot Deck: \"+ str(round(priceHotDeckPk,4))+\"\\nCold Deck: \"+str(round(priceColdDeckPk,4))+\"\\n\")\n",
        "\n",
        "#Probability of 21 in each deck by 10000 tries\n",
        "probSpanish = countSpDeck / n\n",
        "probPoker = countPkDeck / n\n",
        "\n",
        "print(\"The probability for obtain a 21 (Spanish) \"+ str(round(probSpanish,4)*100) + \"%\")\n",
        "plot7 = plt.figure()\n",
        "axisPlot7 = plot7.add_axes([0,0,1,1])\n",
        "axisPlot7.bar(range(0,12),arrayCountSp)\n",
        "plt.show()\n",
        "print(\"The probability for obtain a 21 (Poker) \"+ str(round(probPoker,4)*100) +\"%\")\n",
        "plot8 = plt.figure()\n",
        "axisPlot8 = plot8.add_axes([0,0,1,1])\n",
        "axisPlot8.bar(range(0,12),arrayCountPk)\n",
        "plt.show()"
      ],
      "execution_count": null,
      "outputs": [
        {
          "output_type": "stream",
          "text": [
            "Hot Decks Spanish:  79.16  %\n",
            "Cold Deck Spanish:  20.840000000000003  %\n",
            "\n",
            "Hot Decks Poker:  76.05  %\n",
            "Cold Deck Poker:  23.950000000000003  %\n",
            "\n",
            "\n",
            "\n",
            "Total Games played by Ben: 600\n",
            "\n",
            "SPANISH DECK:\n",
            "The quantity of money spend by Ben is:\n",
            "Hot Deck: 474960.0\n",
            "Cold Deck: 1250.4\n",
            "\n",
            "POKER DECK:\n",
            "The quantity of money spend by Ben is:\n",
            "Hot Deck: 456300.0\n",
            "Cold Deck: 1437.0\n",
            "\n",
            "The probability for obtain a 21 (Spanish) 9.76%\n"
          ],
          "name": "stdout"
        },
        {
          "output_type": "display_data",
          "data": {
            "image/png": "[encoded data removed]",
            "text/plain": [
              "<Figure size 432x288 with 1 Axes>"
            ]
          },
          "metadata": {
            "tags": [],
            "needs_background": "light"
          }
        },
        {
          "output_type": "stream",
          "text": [
            "The probability for obtain a 21 (Poker) 8.88%\n"
          ],
          "name": "stdout"
        },
        {
          "output_type": "display_data",
          "data": {
            "image/png": "[encoded data removed]",
            "text/plain": [
              "<Figure size 432x288 with 1 Axes>"
            ]
          },
          "metadata": {
            "tags": [],
            "needs_background": "light"
          }
        }
      ]
    },
    {
      "cell_type": "markdown",
      "metadata": {
        "id": "QWhJHlF2EeKT"
      },
      "source": [
        "REESTRUCTURACIÓN LAB 4"
      ]
    },
    {
      "cell_type": "markdown",
      "metadata": {
        "id": "bFpJL6R2EwYF"
      },
      "source": [
        "1\n",
        "\n",
        "Estimate the probability of getting a 21, the average number of cards required to complete 21 and plot the experimental distribution of the number of card required to complete 21 drawing cards sequentially from a shuffled Spanish 48-card deck with card values\n",
        "\n",
        "[1,2,3,4,5,6,7,8,9,10,11,12,1,2,3,4,5,6,7,8,9,10,11,12,1,2,3,4,5,6,7,8,9,10,11,12,1,2,3,4,5,6,7,8,9,10,11,12]\n",
        "\n",
        "and from a shuffled Poker 52-card with card values\n",
        "\n",
        "[1,2,3,4,5,6,7,8,9,10,11,12,13,1,2,3,4,5,6,7,8,9,10,11,12,13,1,2,3,4,5,6,7,8,9,10,11,12,13,1,2,3,4,5,6,7,8,9,10,11,12,13]\n",
        "\n",
        "using Montecarlo with 10 millions simulations.\n",
        "\n",
        "    A n-card deck is shuffled if t all possible n! decks have equal probability 1/n! or equivalently if when choosing any card of the shuffled deck all n cards have the same probability 1/n of appearing.\n",
        "    Hint: Instead of shuffling the card deck an drawing sequentially it is equivalent to have a sorted list representing the cards and draw cards randomly located from that list with random.choice(list).\n"
      ]
    },
    {
      "cell_type": "code",
      "metadata": {
        "id": "9aXFAn59E0oG"
      },
      "source": [
        "import random as r\n",
        "import matplotlib.pyplot as plt\n",
        "#We define a function sum21,that chooses randomly the cards from a deck until get 21 or more\n",
        "# variable deck is a list of cards, countCards is a list in where we add 1 in the position i if we get a 21 with i cards\n",
        "# sum is the value of the cards that have the player initially. (for example if the player has the cards 7,7,5, this value is 19; and if starts with no cards then is 0)\n",
        "def sum21(deck,countCards,sum):\n",
        "  auxDeck = deck[:]\n",
        "  aux = 0\n",
        "  count = 0\n",
        "  while (sum < 21 ):\n",
        "    aux=r.choice(auxDeck)\n",
        "    sum=sum+aux\n",
        "    auxDeck.remove(aux)\n",
        "    count += 1\n",
        "  \n",
        "  if sum == 21:\n",
        "    countCards[count] += 1\n",
        "    return 1\n",
        "  else:\n",
        "    return 0"
      ],
      "execution_count": null,
      "outputs": []
    },
    {
      "cell_type": "code",
      "metadata": {
        "id": "aQy7HjNQE92N",
        "outputId": "d468759b-11f8-45c0-f708-285933040a92",
        "colab": {
          "base_uri": "https://localhost:8080/",
          "height": 692
        }
      },
      "source": [
        "n=10000000\n",
        "countSpanish = 0 #counts if the player get 21\n",
        "countPoker = 0 #counts if the player get 21\n",
        "countCardsSpanish = [0,0,0,0,0,0,0,0,0,0,0,0] #counts the number of cards used to get 21\n",
        "countCardsPoker = [0,0,0,0,0,0,0,0,0,0,0,0] #counts the number of cards used to get 21\n",
        "spanishDeck = [1,2,3,4,5,6,7,8,9,10,11,12,1,2,3,4,5,6,7,8,9,10,11,12,1,2,3,4,5,6,7,8,9,10,11,12,1,2,3,4,5,6,7,8,9,10,11,12]\n",
        "pokerDeck = [1,2,3,4,5,6,7,8,9,10,11,12,13,1,2,3,4,5,6,7,8,9,10,11,12,13,1,2,3,4,5,6,7,8,9,10,11,12,13,1,2,3,4,5,6,7,8,9,10,11,12,13]\n",
        "\n",
        "for i in range(1,n+1):\n",
        "  countSpanish += sum21(spanishDeck,countCardsSpanish,0)\n",
        "  countPoker += sum21(pokerDeck,countCardsPoker,0)\n",
        "probSpanish = countSpanish / n\n",
        "probPoker = countPoker / n\n",
        "\n",
        "print(\"The experimental probability of getting a 21 drawing cards sequentially from shuffled Spanish 48-deck is \"+ str(probSpanish)+\".\")\n",
        "fig1 = plt.figure()\n",
        "ax1 = fig1.add_axes([0,0,1,1])\n",
        "ax1.bar(range(0,12),countCardsSpanish)\n",
        "plt.show()\n",
        "print(\"The experimental probability of getting a 21 drawing cards sequentially from shuffled Poker 52-deck is \"+ str(probPoker)+\".\")\n",
        "fig2 = plt.figure()\n",
        "ax2 = fig2.add_axes([0,0,1,1])\n",
        "ax2.bar(range(0,12),countCardsPoker)\n",
        "plt.show()"
      ],
      "execution_count": null,
      "outputs": [
        {
          "output_type": "stream",
          "text": [
            "The experimental probability of getting a 21 drawing cards sequentially from shuffled Spanish 48-deck is 0.1576831.\n"
          ],
          "name": "stdout"
        },
        {
          "output_type": "display_data",
          "data": {
            "image/png": "[encoded data removed]",
            "text/plain": [
              "<Figure size 432x288 with 1 Axes>"
            ]
          },
          "metadata": {
            "tags": [],
            "needs_background": "light"
          }
        },
        {
          "output_type": "stream",
          "text": [
            "The experimental probability of getting a 21 drawing cards sequentially from shuffled Poker 52-deck is 0.144701.\n"
          ],
          "name": "stdout"
        },
        {
          "output_type": "display_data",
          "data": {
            "image/png": "[encoded data removed]",
            "text/plain": [
              "<Figure size 432x288 with 1 Axes>"
            ]
          },
          "metadata": {
            "tags": [],
            "needs_background": "light"
          }
        }
      ]
    },
    {
      "cell_type": "markdown",
      "metadata": {
        "id": "RMy4FaRcFAzX"
      },
      "source": [
        "2\n",
        "\n",
        "Estimate the probability of getting a 21, the average number of cards required to complete 21 and plot the experimental distribution of the number of card required to complete 21 drawing cards sequentially from a shuffled Spanish 48-card deck with card values\n",
        "\n",
        "[1,2,3,4,5,6,7,10,10,10,1,2,3,4,5,6,7,8,9,10,10,10,1,2,3,4,5,6,7,8,9,10,10,10,1,2,3,4,5,6,7,8,9,10,10,10]\n",
        "\n",
        "and from a shuffled Poker 52-card deck with card values\n",
        "\n",
        "[1,2,3,4,5,6,7,8,9,10,10,10,10,1,2,3,4,5,6,7,8,9,10,10,10,10,1,2,3,4,5,6,7,8,9,10,10,10,10,1,2,3,4,5,6,7,8,9,10,10,10,10]\n",
        "\n",
        "using Montecarlo with 10 millions simulations."
      ]
    },
    {
      "cell_type": "code",
      "metadata": {
        "id": "5FalIBuwFDSW",
        "outputId": "969fd478-76c6-4dc9-d8fc-9394e6d59750",
        "colab": {
          "base_uri": "https://localhost:8080/",
          "height": 692
        }
      },
      "source": [
        "n=1000000\n",
        "countSpanish = 0 #counts if the player get 21\n",
        "countPoker = 0 #counts if the player get 21\n",
        "countCardsSpanish = [0,0,0,0,0,0,0,0,0,0,0,0] #counts the number of cards used to get 21\n",
        "countCardsPoker = [0,0,0,0,0,0,0,0,0,0,0,0] #counts the number of cards used to get 21\n",
        "spanishDeck = [1,2,3,4,5,6,7,8,9,10,10,10,1,2,3,4,5,6,7,8,9,10,10,10,1,2,3,4,5,6,7,8,9,10,10,10,1,2,3,4,5,6,7,8,9,10,10,10]\n",
        "pokerDeck = [1,2,3,4,5,6,7,8,9,10,10,10,10,1,2,3,4,5,6,7,8,9,10,10,10,10,1,2,3,4,5,6,7,8,9,10,10,10,10,1,2,3,4,5,6,7,8,9,10,10,10,10]\n",
        "\n",
        "for i in range(1,n+1):\n",
        "  countSpanish += sum21(spanishDeck,countCardsSpanish,0)\n",
        "  countPoker += sum21(pokerDeck,countCardsPoker,0)\n",
        "  \n",
        "probSpanish = countSpanish / n\n",
        "probPoker = countPoker / n\n",
        "\n",
        "probColdDeckSpanish=probSpanish #we save it for the point 5\n",
        "probColdDeckPoker=probPoker #we save it for the point 5\n",
        "\n",
        "print(\"The experimental probability of getting a 21 drawing cards sequentially from shuffled Spanish 48-deck is \"+ str(probSpanish)+\".\")\n",
        "fig1 = plt.figure()\n",
        "ax1 = fig1.add_axes([0,0,1,1])\n",
        "ax1.bar(range(0,12),countCardsSpanish)\n",
        "plt.show()\n",
        "print(\"The experimental probability of getting a 21 drawing cards sequentially from shuffled Poker 52-deck is \"+ str(probPoker)+\".\")\n",
        "fig2 = plt.figure()\n",
        "ax2 = fig2.add_axes([0,0,1,1])\n",
        "ax2.bar(range(0,12),countCardsPoker)\n",
        "plt.show()"
      ],
      "execution_count": null,
      "outputs": [
        {
          "output_type": "stream",
          "text": [
            "The experimental probability of getting a 21 drawing cards sequentially from shuffled Spanish 48-deck is 0.149551.\n"
          ],
          "name": "stdout"
        },
        {
          "output_type": "display_data",
          "data": {
            "image/png": "[encoded data removed]",
            "text/plain": [
              "<Figure size 432x288 with 1 Axes>"
            ]
          },
          "metadata": {
            "tags": [],
            "needs_background": "light"
          }
        },
        {
          "output_type": "stream",
          "text": [
            "The experimental probability of getting a 21 drawing cards sequentially from shuffled Poker 52-deck is 0.140197.\n"
          ],
          "name": "stdout"
        },
        {
          "output_type": "display_data",
          "data": {
            "image/png": "[encoded data removed]",
            "text/plain": [
              "<Figure size 432x288 with 1 Axes>"
            ]
          },
          "metadata": {
            "tags": [],
            "needs_background": "light"
          }
        }
      ]
    },
    {
      "cell_type": "markdown",
      "metadata": {
        "id": "VhzKNqvdFJZO"
      },
      "source": [
        "3\n",
        "\n",
        "Estimate the probability of getting a 21, the average total number of cards required to complete 21 (including the three that you start with) and plot the experimental distribution of the number of card required to complete 21 with drawing cards sequentially from a shuffled Spanish 48-card deck with 3 10’s and a shuffled Poker 52-card deck with 4 10’s, assuming that you have in your hand the cards [7,7,5]ae and the remaining deck has n/2 cards. You can pick the n/2 cards in the remaining deck in whatever way you choose but with restriction that this has maximum two 7s and three 5, you have to keep the remaining deck fixed through the simulations, use Montecarlo with 10 millions simulations."
      ]
    },
    {
      "cell_type": "code",
      "metadata": {
        "id": "0xlccjJbFFuP",
        "outputId": "5225184a-1bdc-468f-f7f0-461651f6290b",
        "colab": {
          "base_uri": "https://localhost:8080/",
          "height": 767
        }
      },
      "source": [
        "#chooseHalfDeck choose randomly a deck of halfsize\n",
        "def chooseHalfDeck(deck):\n",
        "  aux=deck[:]\n",
        "  for i in range(1,int((len(deck)-1)/2)):\n",
        "    aux.remove(r.choice(aux))\n",
        "  return aux\n",
        "n=10000000\n",
        "spanishDeck3 =[1,2,3,4,6,8,9,10,10,10,1,2,3,4,5,6,8,9,10,10,10,1,2,3,4,5,6,7,8,9,10,10,10,1,2,3,4,5,6,7,8,9,10,10,10]\n",
        "pokerDeck3 = [1,2,3,4,6,8,9,10,10,10,10,1,2,3,4,5,6,8,9,10,10,10,10,1,2,3,4,5,6,7,8,9,10,10,10,10,1,2,3,4,5,6,7,8,9,10,10,10,10]\n",
        "countSpanish = 0 #counts the number of times we got 21 with the Spanish deck\n",
        "countPoker = 0 #counts the number of times we got 21 with the Poker deck\n",
        "countCardsSpanish = [0,0,0,0,0,0,0,0,0,0,0,0] #counts the number of cards used to get 21\n",
        "countCardsPoker = [0,0,0,0,0,0,0,0,0,0,0,0] #counts the number of cards used to get 21\n",
        "\n",
        "\n",
        "spanishHalfDeck=chooseHalfDeck(spanishDeck3) #choose Half Deck from the spanishDeck3 (not included 5,7,7)\n",
        "pokerHalfDeck=chooseHalfDeck(pokerDeck3) ##choose Half Deck from the pokerDeck3 (not included 5,7,7)\n",
        "onesSpanish=spanishHalfDeck.count(1)\n",
        "twosSpanish=spanishHalfDeck.count(2)\n",
        "onesPoker=pokerHalfDeck.count(1)\n",
        "twosPoker=pokerHalfDeck.count(2)\n",
        "theoricProbSpanish= onesSpanish*(onesSpanish-1)/(24*23) + twosSpanish/24\n",
        "theoricProbPoker= onesPoker*(onesPoker-1)/(26*25) + twosPoker/26\n",
        "\n",
        "for i in range(1,n+1):\n",
        "  countSpanish += sum21(spanishHalfDeck,countCardsSpanish,19) #7+7+5=19\n",
        "  countPoker += sum21(pokerHalfDeck,countCardsPoker,19)\n",
        "probSpanish = countSpanish / n\n",
        "probPoker = countPoker / n\n",
        "\n",
        "print(\"The Half Spanish Deck is: \",spanishHalfDeck, len(spanishHalfDeck))\n",
        "print(\"The theoretical probability is \",theoricProbSpanish)\n",
        "print(\"The experimental probability of getting a 21 with the above conditions from Spanish deck is \"+ str(probSpanish)+\".\")\n",
        "fig1 = plt.figure()\n",
        "ax1 = fig1.add_axes([0,0,1,1])\n",
        "ax1.bar(range(0,12),countCardsSpanish)\n",
        "plt.show()\n",
        "print(\"The Half Poker Deck is: \",pokerHalfDeck, len(pokerHalfDeck))\n",
        "print(\"The theoretical probability is \",theoricProbPoker)\n",
        "print(\"The experimental probability of getting a 21 with the above conditions from Poker deck is \"+ str(probPoker)+\".\")\n",
        "fig2 = plt.figure()\n",
        "ax2 = fig2.add_axes([0,0,1,1])\n",
        "ax2.bar(range(0,12),countCardsPoker)\n",
        "plt.show()"
      ],
      "execution_count": null,
      "outputs": [
        {
          "output_type": "stream",
          "text": [
            "The Half Spanish Deck is:  [9, 1, 6, 9, 1, 2, 3, 4, 6, 7, 9, 10, 10, 1, 2, 3, 4, 6, 7, 8, 9, 10, 10, 10] 24\n",
            "The theoretical probability is  0.09420289855072464\n",
            "The experimental probability of getting a 21 with the above conditions from Spanish deck is 0.0939211.\n"
          ],
          "name": "stdout"
        },
        {
          "output_type": "display_data",
          "data": {
            "image/png": "[encoded data removed]",
            "text/plain": [
              "<Figure size 432x288 with 1 Axes>"
            ]
          },
          "metadata": {
            "tags": [],
            "needs_background": "light"
          }
        },
        {
          "output_type": "stream",
          "text": [
            "The Half Poker Deck is:  [3, 4, 6, 10, 3, 4, 5, 6, 8, 9, 10, 10, 10, 10, 2, 3, 4, 5, 6, 7, 8, 9, 10, 10, 10, 10] 26\n",
            "The theoretical probability is  0.038461538461538464\n",
            "The experimental probability of getting a 21 with the above conditions from Poker deck is 0.0384563.\n"
          ],
          "name": "stdout"
        },
        {
          "output_type": "display_data",
          "data": {
            "image/png": "[encoded data removed]",
            "text/plain": [
              "<Figure size 432x288 with 1 Axes>"
            ]
          },
          "metadata": {
            "tags": [],
            "needs_background": "light"
          }
        }
      ]
    },
    {
      "cell_type": "markdown",
      "metadata": {
        "id": "g-bdUkv6FQ3t"
      },
      "source": [
        "4\n",
        "\n",
        "Find two remaining decks with 10 cards for Alg Gr 2 11-1; for a Spanish 48-card deck with 3 10’s and for a Poker 52-card deck with 4 10’s; one remaining has the highest probability of getting 21 (hot deck) and the other remaining s that has the lowest probability of getting 21(cold deck), assuming that you have in your hand the cards [7,7,5]. Calculate analytically the probabilities of getting a 21 for both the hot an cold deck, estimate this probabilities of getting a 21, the average total number of cards required to complete 21 (including the three that you start with) and plot the experimental distribution of the total number of card required to complete 21 (including the three that you start with) using Montecarlo with 10 millions simulations."
      ]
    },
    {
      "cell_type": "markdown",
      "metadata": {
        "id": "99LdfBkqFTdt"
      },
      "source": [
        "Solution\n",
        "\n",
        "We took the following Decks\n",
        "\n",
        "    spanishHotDeck =[1,2,3,1,2,3,1,2,1,2]\n",
        "    spanishColdDeck = [10,10,10,10,10,10,10,10,10,10]\n",
        "    pokerHotDeck =[1,2,3,1,2,3,1,2,1,2]\n",
        "    pokerColdDeck =[10,10,10,10,10,10,10,10,10,10]\n",
        "\n",
        "We have two cases to obtain 21 if we have [7,7,5]: with two ones or only a two. The first case give us a probability of 410∗39=215. The second one give us a probability of 410=25. Thus the probability to obtain 21 with a hot deck is 25+215=815≈0.533\n",
        "\n",
        "With respect to cold Decks, clearly we cannot obtain 21, then the probability is 0."
      ]
    },
    {
      "cell_type": "code",
      "metadata": {
        "id": "5VxHL5O-FUsm"
      },
      "source": [
        "n=10000000\n",
        "spanishHotDeck =[1,2,1,2,1,2,1,2]\n",
        "spanishColdDeck = [10,10,10,10,10,10,10,10] #,10,10]\n",
        "pokerHotDeck =[1,2,1,2,1,2,1,2]\n",
        "pokerColdDeck = [10,10,10,10,10,10,10,10] #,10,10]\n",
        "\n",
        "countSpanishHot = 0 #counts the number of times we got 21 with the Spanish deck\n",
        "countPokerHot = 0 #counts the number of times we got 21 with the Poker deck\n",
        "countSpanishCold = 0 #counts the number of times we got 21 with the Spanish deck\n",
        "countPokerCold = 0 #counts the number of times we got 21 with the Poker deck\n",
        "\n",
        "countCardsSpanishHot = [0,0,0,0,0,0,0,0] #,0,0,0,0]\n",
        "countCardsPokerHot = [0,0,0,0,0,0,0,0] #,0,0,0,0]\n",
        "\n",
        "countCardsSpanishCold = [0,0,0,0,0,0,0,0] #,0,0,0,0]\n",
        "countCardsPokerCold = [0,0,0,0,0,0,0,0] #,0,0,0,0]\n",
        "for i in range(1,n+1):\n",
        "  countSpanishHot += sum21(spanishHotDeck,countCardsSpanishHot,19) #7+7+5=19\n",
        "  countSpanishCold += sum21(spanishColdDeck,countCardsSpanishCold,19) #7+7+5=19\n",
        "  countPokerHot += sum21(pokerHotDeck,countCardsPokerHot,19)\n",
        "  countPokerCold += sum21(pokerColdDeck,countCardsPokerCold,19)\n",
        "probSpanishHot = countSpanishHot / n\n",
        "probSpanishCold = countSpanishCold / n\n",
        "probPokerHot = countPokerHot / n\n",
        "probPokerCold = countPokerCold / n\n",
        "\n",
        "probHotDeckSpanish=probSpanishHot #we save it for point 5\n",
        "probHotDeckPoker=probSpanishHot #we save it for point 5\n",
        "\n",
        "print(\"The experimental probability of getting a 21 with the above conditions from Hot Spanish deck is \"+ str(probSpanishHot)+\".\")\n",
        "fig1 = plt.figure()\n",
        "ax1 = fig1.add_axes([0,0,1,1])\n",
        "ax1.bar(range(0,8),countCardsSpanishHot)\n",
        "plt.show()\n",
        "print(\"The experimental probability of getting a 21 with the above conditions from Cold Spanish deck is \"+ str(probSpanishCold)+\".\")\n",
        "fig1 = plt.figure()\n",
        "ax1 = fig1.add_axes([0,0,1,1])\n",
        "ax1.bar(range(0,8),countCardsSpanishCold)\n",
        "plt.show()\n",
        "print(\"The experimental probability of getting a 21 with the above conditions from Hot Poker deck is \"+ str(probPokerHot)+\".\")\n",
        "fig2 = plt.figure()\n",
        "ax2 = fig2.add_axes([0,0,1,1])\n",
        "ax2.bar(range(0,8),countCardsPokerHot)\n",
        "plt.show()\n",
        "print(\"The experimental probability of getting a 21 with the above conditions from Cold Poker deck is \"+ str(probPokerCold)+\".\")\n",
        "fig2 = plt.figure()\n",
        "ax2 = fig2.add_axes([0,0,1,1])\n",
        "ax2.bar(range(0,8),countCardsPokerCold)\n",
        "plt.show()"
      ],
      "execution_count": null,
      "outputs": []
    },
    {
      "cell_type": "markdown",
      "metadata": {
        "id": "Nr4QdtKZFZ29"
      },
      "source": [
        "5\n",
        "\n",
        "Estimate the average amount of money (expected value) that Ben wins or losses on a weekend if Ben goes to Vegas every weekend (Friday, Saturday and Sunday), plays every weekend day 10 hours, each game takes 3 mins. Assume that for each game he gets two possibilities, in one he gets in his hand the cards [7,7,5] and a remaining hot deck cards with 12 cards for Alg Gr 1 9-11 and with 10 cards for Alg Gr 2 11-1 which case he bets $ 1000 this happens with probability 1/10; in the other one he gets no cards in his hand a complete shuffled deck in which case he bets $10, this happens with the remaining probability 9/10. Use 10000 Montecarlo simulations to estimated the expected amount of money that Ben wins or losses on a weekend for a Spanish 48-card deck with 3 10’s and for a Poker 52-card deck with 4 10’s."
      ]
    },
    {
      "cell_type": "markdown",
      "metadata": {
        "id": "yEb9dZI7FoGV"
      },
      "source": [
        "Solution\n",
        "\n",
        "The next cell show us the solution of the question, but takes too much to run, because we have to simulate n times a weekend, for 600 games, each of one we simulate n times. It means the computer is doing 60000000000 calculations for n=10000."
      ]
    },
    {
      "cell_type": "code",
      "metadata": {
        "id": "8SzNyGwEFsR8",
        "outputId": "ddecee31-835c-4fb2-b626-2f84487d077c",
        "colab": {
          "base_uri": "https://localhost:8080/",
          "height": 784
        }
      },
      "source": [
        "n=10000 #number of simulations per weekend\n",
        "m=600 #number of games per weekend\n",
        "q=1 #control the number of simulations per game\n",
        "\n",
        "betHot=1000\n",
        "betCold=10\n",
        "hotProbability=0.1 #Change to 0.1 probabilitty\n",
        "\n",
        "spanishHotDeck =([1,2,3,1,2,3,1,2,1,2],19,betHot,probHotDeckSpanish)\n",
        "spanishColdDeck = ([1,2,3,4,5,6,7,8,9,10,10,10,1,2,3,4,5,6,7,8,9,10,10,10,1,2,3,4,5,6,7,8,9,10,10,10,1,2,3,4,5,6,7,8,9,10,10,10],0,betCold,probColdDeckSpanish)\n",
        "pokerHotDeck =([1,2,3,1,2,3,1,2,1,2],19,betHot,probHotDeckPoker)\n",
        "pokerColdDeck =([1,2,3,4,5,6,7,8,9,10,10,10,10,1,2,3,4,5,6,7,8,9,10,10,10,10,1,2,3,4,5,6,7,8,9,10,10,10,10,1,2,3,4,5,6,7,8,9,10,10,10,10],0,betCold,probColdDeckPoker)\n",
        "\n",
        "spanishDecks=[spanishHotDeck, spanishColdDeck]\n",
        "pokerDecks=[pokerHotDeck, pokerColdDeck]\n",
        "\n",
        "#fix randomly m games, \n",
        "gamesSpanish=[]\n",
        "gamesPoker=[]\n",
        "gamesSpanishProfit=[]\n",
        "gamesPokerProfit=[]\n",
        "for i in range(0,m):\n",
        "  gamesSpanish.append(r.choices(spanishDecks,weights=(hotProbability,1-hotProbability),k=1)[0])\n",
        "  gamesPoker.append(r.choices(pokerDecks,weights=(hotProbability,1-hotProbability),k=1)[0])\n",
        "  gamesSpanishProfit.append(0)\n",
        "  gamesPokerProfit.append(0)\n",
        "gamesSpanishProfitReset=gamesSpanishProfit[:]\n",
        "gamesPokerProfitReset=gamesPokerProfit[:]\n",
        "\n",
        "print(\"Number of hot decks (spanish, poker):\",gamesSpanish.count(spanishHotDeck), gamesPoker.count(pokerHotDeck))\n",
        "\n",
        "countSpanish = 0 #counts the number of times we got 21 with the Spanish deck\n",
        "countPoker = 0 #counts the number of times we got 21 with the Poker deck\n",
        "countCardsSpanish = [0,0,0,0,0,0,0,0,0,0,0,0]\n",
        "countCardsPoker = [0,0,0,0,0,0,0,0,0,0,0,0]\n",
        "\n",
        "expectedProfitSpanish=0\n",
        "expectedProfitPoker=0\n",
        "for k in range(0,n):\n",
        "  for i in range(0,m):\n",
        "    for j in range(0,q):\n",
        "        resultSpanish = sum21(gamesSpanish[i][0],countCardsSpanish,gamesSpanish[i][1])\n",
        "        resultPoker = sum21(gamesPoker[i][0],countCardsPoker,gamesPoker[i][1])\n",
        "        countSpanish += resultSpanish\n",
        "        countPoker += resultPoker\n",
        "        gamesSpanishProfit[i] += (2*resultSpanish -1)*gamesSpanish[i][2]\n",
        "        gamesPokerProfit[i] += (2*resultPoker - 1)*gamesPoker[i][2]\n",
        "    gamesSpanishProfit[i] = gamesSpanishProfit[i]/q\n",
        "    gamesPokerProfit[i] = gamesPokerProfit[i]/q\n",
        "  expectedProfitSpanish+= sum(gamesSpanishProfit)\n",
        "  expectedProfitPoker+= sum(gamesPokerProfit)\n",
        "  gamesSpanishProfit=gamesSpanishProfitReset[:]\n",
        "  gamesPokerProfit=gamesPokerProfitReset[:]\n",
        "\n",
        "expectedProfitSpanish = expectedProfitSpanish/n\n",
        "expectedProfitPoker = expectedProfitPoker/n\n",
        "\n",
        "probSpanish = countSpanish / (m*n*q)\n",
        "probPoker = countPoker / (m*n*q)\n",
        "\n",
        "# 600 is the total of games he plays on a weekend = 3 days * 10 hours per day * 60 minutes per hour / 3 minutes per game\n",
        "# 109 is the estimated amount of money he spents per game 0.1*1000 + 0.9*10=109\n",
        "# when he is in the hot Deck case, it's expected that he obtains (2*0.5333 - 1)*1000 per game\n",
        "# when he is in the cold Deck case, it's expected that he obtains  for spanish Deck, (2*0.1752 - 1)*10, and for poker Deck (2*0.1441 - 1)*10\n",
        "estimated_won_amount_spanish = ((2*probHotDeckSpanish - 1)*betHot*hotProbability + (2*probColdDeckSpanish - 1)*betCold*(1-hotProbability))*m\n",
        "estimated_won_amount_poker = ((2*probHotDeckPoker - 1)*betHot*hotProbability + (2*probColdDeckPoker - 1)*betCold*(1-hotProbability))*m\n",
        "\n",
        "print(\"the theoretical estimated amount of money that Ben wins or losses per game with a Spanish Deck is \",estimated_won_amount_spanish,\".\")\n",
        "print(\"the experimental estimated amount of money that Ben wins or losses per game with a Spanish Deck is \",expectedProfitSpanish,\".\")\n",
        "\n",
        "print(\"the theoretical estimated amount of money that Ben wins or losses per game with a Poker Deck is \",estimated_won_amount_poker,\".\")\n",
        "print(\"the experimental estimated amount of money that Ben wins or losses per game with a Poker Deck is \",expectedProfitPoker,\".\")\n",
        "\n",
        "print(\"The experimental probability of getting a 21 with the above conditions from Spanish deck is \"+ str(probSpanish)+\".\")\n",
        "fig1 = plt.figure()\n",
        "ax1 = fig1.add_axes([0,0,1,1])\n",
        "ax1.bar(range(0,12),countCardsSpanish)\n",
        "plt.show()\n",
        "print(\"The experimental probability of getting a 21 with the above conditions from Poker deck is \"+ str(probPoker)+\".\")\n",
        "fig2 = plt.figure()\n",
        "ax2 = fig2.add_axes([0,0,1,1])\n",
        "ax2.bar(range(0,12),countCardsPoker)\n",
        "plt.show()"
      ],
      "execution_count": null,
      "outputs": [
        {
          "output_type": "stream",
          "text": [
            "Number of hot decks (spanish, poker): 63 56\n",
            "the theoretical estimated amount of money that Ben wins or losses per game with a Spanish Deck is  246.02280000000275 .\n",
            "the experimental estimated amount of money that Ben wins or losses per game with a Spanish Deck is  379.794 .\n",
            "the theoretical estimated amount of money that Ben wins or losses per game with a Poker Deck is  144.99960000000343 .\n",
            "the experimental estimated amount of money that Ben wins or losses per game with a Poker Deck is  -151.544 .\n",
            "The experimental probability of getting a 21 with the above conditions from Spanish deck is 0.1902645.\n"
          ],
          "name": "stdout"
        },
        {
          "output_type": "display_data",
          "data": {
            "image/png": "[encoded data removed]",
            "text/plain": [
              "<Figure size 432x288 with 1 Axes>"
            ]
          },
          "metadata": {
            "tags": [],
            "needs_background": "light"
          }
        },
        {
          "output_type": "stream",
          "text": [
            "The experimental probability of getting a 21 with the above conditions from Poker deck is 0.17694033333333334.\n"
          ],
          "name": "stdout"
        },
        {
          "output_type": "display_data",
          "data": {
            "image/png": "[encoded data removed]",
            "text/plain": [
              "<Figure size 432x288 with 1 Axes>"
            ]
          },
          "metadata": {
            "tags": [],
            "needs_background": "light"
          }
        }
      ]
    },
    {
      "cell_type": "markdown",
      "metadata": {
        "id": "o3n5MSoOFwDV"
      },
      "source": [
        "Now, let's run a simplified code, where we don't simulate again the games, but use the information obtained in previous points."
      ]
    },
    {
      "cell_type": "code",
      "metadata": {
        "id": "Sy8rFboBFb0E",
        "outputId": "5adbcaef-ecff-4a47-b08a-4967299415ec",
        "colab": {
          "base_uri": "https://localhost:8080/",
          "height": 109
        }
      },
      "source": [
        "n=10000 #number of experiments\n",
        "m=600 #number of games per weekend\n",
        "\n",
        "betHot=1000\n",
        "betCold=10\n",
        "hotProbability=0.1 #Change it to 0.1 if you want to check the original problem\n",
        "\n",
        "spanishHotDeck =([1,2,3,1,2,3,1,2,1,2],19,betHot,probHotDeckSpanish)\n",
        "spanishColdDeck = ([1,2,3,4,5,6,7,8,9,10,10,10,1,2,3,4,5,6,7,8,9,10,10,10,1,2,3,4,5,6,7,8,9,10,10,10,1,2,3,4,5,6,7,8,9,10,10,10],0,betCold,probColdDeckSpanish)\n",
        "pokerHotDeck =([1,2,3,1,2,3,1,2,1,2],19,betHot,probHotDeckPoker)\n",
        "pokerColdDeck =([1,2,3,4,5,6,7,8,9,10,10,10,10,1,2,3,4,5,6,7,8,9,10,10,10,10,1,2,3,4,5,6,7,8,9,10,10,10,10,1,2,3,4,5,6,7,8,9,10,10,10,10],0,betCold,probColdDeckPoker)\n",
        "\n",
        "spanishDecks=[spanishHotDeck, spanishColdDeck]\n",
        "pokerDecks=[pokerHotDeck, pokerColdDeck]\n",
        "\n",
        "#fix randomly m games, \n",
        "\"\"\"gamesSpanish=[]\n",
        "gamesPoker=[]\n",
        "gamesSpanishProfit=[]\n",
        "gamesPokerProfit=[]\n",
        "for i in range(0,m):\n",
        "  gamesSpanish.append(r.choices(spanishDecks,weights=(hotProbability,1-hotProbability),k=1)[0])\n",
        "  gamesPoker.append(r.choices(pokerDecks,weights=(hotProbability,1-hotProbability),k=1)[0])\n",
        "  gamesSpanishProfit.append(0)\n",
        "  gamesPokerProfit.append(0)\n",
        "gamesSpanishProfitReset=gamesSpanishProfit[:]\n",
        "gamesPokerProfitReset=gamesPokerProfit[:]\"\"\"\n",
        "\n",
        "#How many hot decks we obtained\n",
        "print(\"Number of hot decks (spanish, poker):\",gamesSpanish.count(spanishHotDeck), gamesPoker.count(pokerHotDeck))\n",
        "\n",
        "countSpanish = 0 #counts the number of times we got 21 with the Spanish deck\n",
        "countPoker = 0 #counts the number of times we got 21 with the Poker deck\n",
        "countCardsSpanish = [0,0,0,0,0,0,0,0,0,0,0,0]\n",
        "countCardsPoker = [0,0,0,0,0,0,0,0,0,0,0,0]\n",
        "\n",
        "expectedProfitSpanish=0\n",
        "expectedProfitPoker=0\n",
        "for k in range(0,n):\n",
        "  for i in range(0,m):\n",
        "    gamesSpanishProfit[i] = (2*gamesSpanish[i][3]-1)*gamesSpanish[i][2]\n",
        "    gamesPokerProfit[i] = (2*gamesPoker[i][3]-1)*gamesPoker[i][2]\n",
        "  expectedProfitSpanish+= sum(gamesSpanishProfit)\n",
        "  expectedProfitPoker+= sum(gamesPokerProfit)\n",
        "  gamesSpanishProfit=gamesSpanishProfitReset[:]\n",
        "  gamesPokerProfit=gamesPokerProfitReset[:]\n",
        "\n",
        "expectedProfitSpanish = expectedProfitSpanish/n\n",
        "expectedProfitPoker = expectedProfitPoker/n\n",
        "\n",
        "# 600 is the total of games he plays on a weekend = 3 days * 10 hours per day * 60 minutes per hour / 3 minutes per game\n",
        "# when he is in the hot Deck case, it's expected that he obtains (2*0.5333 - 1)*1000 per game\n",
        "# when he is in the cold Deck case, it's expected that he obtains  for spanish Deck, (2*0.1752 - 1)*10, and for poker Deck (2*0.1441 - 1)*10\n",
        "estimated_won_amount_spanish = ((2*probHotDeckSpanish - 1)*betHot*hotProbability + (2*probColdDeckSpanish - 1)*betCold*(1-hotProbability))*m\n",
        "estimated_won_amount_poker = ((2*probHotDeckPoker - 1)*betHot*hotProbability + (2*probColdDeckPoker - 1)*betCold*(1-hotProbability))*m\n",
        "\n",
        "print(\"the theoretical estimated amount of money that Ben wins or losses per game with a Spanish Deck is \",estimated_won_amount_spanish,\".\")\n",
        "print(\"the experimental estimated amount of money that Ben wins or losses per game with a Spanish Deck is \",expectedProfitSpanish,\".\")\n",
        "\n",
        "print(\"the theoretical estimated amount of money that Ben wins or losses per game with a Poker Deck is \",estimated_won_amount_poker,\".\")\n",
        "print(\"the experimental estimated amount of money that Ben wins or losses per game with a Poker Deck is \",expectedProfitPoker,\".\")"
      ],
      "execution_count": null,
      "outputs": [
        {
          "output_type": "stream",
          "text": [
            "Number of hot decks (spanish, poker): 63 56\n",
            "the theoretical estimated amount of money that Ben wins or losses per game with a Spanish Deck is  246.02280000000275 .\n",
            "the experimental estimated amount of money that Ben wins or losses per game with a Spanish Deck is  468.5933400000582 .\n",
            "the theoretical estimated amount of money that Ben wins or losses per game with a Poker Deck is  144.99960000000343 .\n",
            "the experimental estimated amount of money that Ben wins or losses per game with a Poker Deck is  -152.5094399999962 .\n"
          ],
          "name": "stdout"
        }
      ]
    },
    {
      "cell_type": "markdown",
      "metadata": {
        "id": "_a4TwkmaF4-k"
      },
      "source": [
        "We observe that the experimental estimated amount of money depends strongly of the number of hot decks in the games (the weigth of hot decks(1000) is so big compared with the weight of cold decks (10)), and the expected value is too close to 0, then it is so sensitive. This is a problem because in our case, then number of games is 600 and when we simulate if we obtain a number of hot decks is far from 60, the player will obtain much more or much less than the amount we expected.\n",
        "\n",
        "A way to check that the algorithm works correctly is to change the probability of hot decks to, for example, 0.2. In this way, we obtain a expected value far from 0 and our simulations work well. Other way is to change the number of games per weekend to a bigger number, for example, 10000. Ih this case we obtain more precise values in the simulation.\n",
        "\n",
        "For example, we can check this with the complete algorithm, choosing n=100 and m=600 and a hot deck probability of 0.2.\n"
      ]
    },
    {
      "cell_type": "code",
      "metadata": {
        "id": "eGtrEWG8F7na"
      },
      "source": [
        ""
      ],
      "execution_count": null,
      "outputs": []
    }
  ]
}